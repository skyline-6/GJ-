{
  "nbformat": 4,
  "nbformat_minor": 0,
  "metadata": {
    "colab": {
      "name": "Untitled0.ipynb",
      "provenance": [],
      "authorship_tag": "ABX9TyNaH4yiidVzbF0ZWy5RgKmC",
      "include_colab_link": true
    },
    "kernelspec": {
      "name": "python3",
      "display_name": "Python 3"
    }
  },
  "cells": [
    {
      "cell_type": "markdown",
      "metadata": {
        "id": "view-in-github",
        "colab_type": "text"
      },
      "source": [
        "<a href=\"https://colab.research.google.com/github/skyline-6/GJ-/blob/master/Untitled0.ipynb\" target=\"_parent\"><img src=\"https://colab.research.google.com/assets/colab-badge.svg\" alt=\"Open In Colab\"/></a>"
      ]
    },
    {
      "cell_type": "code",
      "metadata": {
        "id": "UGArQ4T4lqsm",
        "colab_type": "code",
        "colab": {}
      },
      "source": [
        ""
      ],
      "execution_count": 0,
      "outputs": []
    },
    {
      "cell_type": "code",
      "metadata": {
        "id": "8jTqyOallrXq",
        "colab_type": "code",
        "colab": {}
      },
      "source": [
        ""
      ],
      "execution_count": 0,
      "outputs": []
    },
    {
      "cell_type": "markdown",
      "metadata": {
        "id": "F7NwETtelrb7",
        "colab_type": "text"
      },
      "source": [
        "인공지능 사관학교 프리코스 1주차 과제\n",
        "===================================== \n",
        "\n",
        "1. 언어 : **네이버 번역기 파파고**    \n",
        "인공지능이 충분한 학습을 통해 보다 자연스럽게 번역을 완성해간다. 번역해야 할 문장을 보고 기존에 비슷한 유형으로 번역했던 결과물과 대조하고 특정 부분에 가중치를 두면서 보다 완벽한 문장을 만들어간다. 하지만 충분한 학습이 되지 않을 경우 기계번역보다 더 못한 결과가 도출될 수 있다.\n",
        "\n",
        "2. 음성 : **애플 시리**   \n",
        "음성 인식 제품은 음성 입력 및 인식 → 자연어 처리 → 인식결과의 단계를 거친다.\n",
        "* 음성 입력 및 인식 단계 :  사람의 음성을 컴퓨터가 이해할 수 있도록 텍스트화 한다. 이 기술을 STT(Speech To Text)라 하는데 받아쓰기 하듯이 사람의 음성을 텍스트화한다.   \n",
        "* 자연어 처리 단계 : 자연어란 사람이 의사소통을 위해 사용하는 언어인데 자연어 처리란 컴퓨터가 자연어를 분석하여 이해하고 처리하는 기술이다. 자연어에 대한 형태소 분석, 구문해석, 의미분석, 화용분석 등을 통해 컴퓨터가 문장에 담긴 의도를 파악하게 한다. 자연어 처리는 인공지능의 주요분야로 인공지는 기계가 사람의 언를 얼마나 잘 파악했는지 알 수 있는 과정이다.\n",
        "* 인식 결과 도출 : 인식된 요청에 따라 가장 최적의 결과를 찾아내고, TTS기술을 통해 사람의 말소리처럼 응답한다. \n",
        "\n",
        "3. 이미지 : **구글 렌즈**   \n",
        "AI 이미지는 노이즈(Noise)를 얼마나 판별해 내느냐가 핵심이다. 동물이나 사물의 사진에 노이즈를 삽입했을 경우, 사람은 여전히 정확히 판단하지만, AI는 각각의 데이터(픽셀)로 이미지를 분석하기 때문에 잘못 인식하는 경우가 생긴다. 또한 이미지의 특징을 포착하고 추상화하는 기술도 중요하다.\n",
        "\n",
        "4. 자율주행 : **제네시스 G80 운전 스타일 연동 스마트 크루즈 컨트롤**   \n",
        "머신러닝을 기반으로 운전자의 운전스타일을 학습해 운전자의 운전스타일과 유사하도록 주행을 도와주는 기능\n"
      ]
    }
  ]
}